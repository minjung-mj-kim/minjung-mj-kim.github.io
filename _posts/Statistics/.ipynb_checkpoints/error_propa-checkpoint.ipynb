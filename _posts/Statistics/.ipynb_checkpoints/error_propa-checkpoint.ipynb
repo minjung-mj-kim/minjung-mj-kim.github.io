{
 "cells": [
  {
   "cell_type": "code",
   "execution_count": 1,
   "id": "971ed87c",
   "metadata": {},
   "outputs": [],
   "source": [
    "import numpy as np\n",
    "import math\n",
    "import matplotlib.pyplot as plt"
   ]
  },
  {
   "cell_type": "markdown",
   "id": "876ee2dd",
   "metadata": {},
   "source": [
    "# Example 1\n",
    "\n",
    "$$ u = \\frac{x}{y} $$\n",
    "\n",
    "From error propagation formula: $$\\sigma_u = |u|\\sqrt{(\\frac{\\sigma_x}{x})^2 + (\\frac{\\sigma_y}{y})^2 }$$"
   ]
  },
  {
   "cell_type": "code",
   "execution_count": 2,
   "id": "d98f0557",
   "metadata": {},
   "outputs": [],
   "source": [
    "# Sample x, y from normal distribution\n",
    "x = np.random.normal(15, 2, 1000)\n",
    "y = np.random.normal(30, 5, 1000)"
   ]
  },
  {
   "cell_type": "code",
   "execution_count": 3,
   "id": "31244f7f",
   "metadata": {},
   "outputs": [
    {
     "data": {
      "text/plain": [
       "(array([ 14.,  37.,  80., 194., 231., 216., 146.,  56.,  21.,   5.]),\n",
       " array([ 9.09464577, 10.30998465, 11.52532353, 12.74066241, 13.95600129,\n",
       "        15.17134017, 16.38667906, 17.60201794, 18.81735682, 20.0326957 ,\n",
       "        21.24803458]),\n",
       " <BarContainer object of 10 artists>)"
      ]
     },
     "execution_count": 3,
     "metadata": {},
     "output_type": "execute_result"
    },
    {
     "data": {
      "image/png": "[encoded data removed]",
      "text/plain": [
       "<Figure size 432x288 with 1 Axes>"
      ]
     },
     "metadata": {
      "needs_background": "light"
     },
     "output_type": "display_data"
    }
   ],
   "source": [
    "plt.hist(x)"
   ]
  },
  {
   "cell_type": "code",
   "execution_count": 4,
   "id": "6274544c",
   "metadata": {},
   "outputs": [
    {
     "data": {
      "text/plain": [
       "(array([  9.,  36.,  95., 198., 237., 219., 121.,  61.,  20.,   4.]),\n",
       " array([15.53012422, 18.59175331, 21.6533824 , 24.71501148, 27.77664057,\n",
       "        30.83826965, 33.89989874, 36.96152783, 40.02315691, 43.084786  ,\n",
       "        46.14641509]),\n",
       " <BarContainer object of 10 artists>)"
      ]
     },
     "execution_count": 4,
     "metadata": {},
     "output_type": "execute_result"
    },
    {
     "data": {
      "image/png": "[encoded data removed]",
      "text/plain": [
       "<Figure size 432x288 with 1 Axes>"
      ]
     },
     "metadata": {
      "needs_background": "light"
     },
     "output_type": "display_data"
    }
   ],
   "source": [
    "plt.hist(y)"
   ]
  },
  {
   "cell_type": "code",
   "execution_count": 5,
   "id": "6432cb84",
   "metadata": {},
   "outputs": [
    {
     "name": "stdout",
     "output_type": "stream",
     "text": [
      "Mean and error of u from error propagation =  0.5  +-  0.10671873729054748\n"
     ]
    }
   ],
   "source": [
    "# Use error propagation formula\n",
    "u_mean = 15/30\n",
    "u_err = abs(u_mean)*(4/225+25/900)**0.5\n",
    "\n",
    "print('Mean and error of u from error propagation = ',u_mean,' +- ',u_err)"
   ]
  },
  {
   "cell_type": "code",
   "execution_count": 6,
   "id": "31432b92",
   "metadata": {},
   "outputs": [
    {
     "name": "stdout",
     "output_type": "stream",
     "text": [
      "Mean and error of u from simulation =  0.5109895099250634  +-  0.11121691239405156\n"
     ]
    },
    {
     "data": {
      "text/plain": [
       "(array([ 76., 245., 335., 197.,  98.,  28.,  17.,   1.,   2.,   1.]),\n",
       " array([0.28314132, 0.36833742, 0.45353353, 0.53872963, 0.62392574,\n",
       "        0.70912184, 0.79431794, 0.87951405, 0.96471015, 1.04990626,\n",
       "        1.13510236]),\n",
       " <BarContainer object of 10 artists>)"
      ]
     },
     "execution_count": 6,
     "metadata": {},
     "output_type": "execute_result"
    },
    {
     "data": {
      "image/png": "[encoded data removed]",
      "text/plain": [
       "<Figure size 432x288 with 1 Axes>"
      ]
     },
     "metadata": {
      "needs_background": "light"
     },
     "output_type": "display_data"
    }
   ],
   "source": [
    "# Calculate values with simulation data\n",
    "u = x/y\n",
    "\n",
    "u_mean = np.mean(u)\n",
    "u_err = np.std(u)\n",
    "print('Mean and error of u from simulation = ',u_mean,' +- ',u_err)\n",
    "\n",
    "# Simulated distribution of u\n",
    "plt.hist(u)"
   ]
  },
  {
   "cell_type": "markdown",
   "id": "280814ef",
   "metadata": {},
   "source": [
    "Both results gave the similar values. Good!"
   ]
  },
  {
   "cell_type": "markdown",
   "id": "d4d16f75",
   "metadata": {},
   "source": [
    "# Example 2\n",
    "\n",
    "$$ u = \\sqrt{x^2+y^2} $$\n",
    "\n",
    "From error propagation formula: $$ \\sigma_u = \\sqrt{\\frac{x^2\\sigma_x^2+y^2\\sigma_y^2}{x^2+y^2}}$$"
   ]
  },
  {
   "cell_type": "code",
   "execution_count": 7,
   "id": "f4c66cb9",
   "metadata": {},
   "outputs": [],
   "source": [
    "# Sample x, y from normal distribution\n",
    "x = np.random.normal(1, 3, 1000)\n",
    "y = np.random.normal(2, 5, 1000)"
   ]
  },
  {
   "cell_type": "code",
   "execution_count": 8,
   "id": "7aa32e1f",
   "metadata": {},
   "outputs": [
    {
     "data": {
      "text/plain": [
       "(array([  3.,   9.,  46., 121., 229., 256., 199.,  94.,  37.,   6.]),\n",
       " array([-9.78167482, -7.78080635, -5.77993787, -3.77906939, -1.77820091,\n",
       "         0.22266757,  2.22353605,  4.22440452,  6.225273  ,  8.22614148,\n",
       "        10.22700996]),\n",
       " <BarContainer object of 10 artists>)"
      ]
     },
     "execution_count": 8,
     "metadata": {},
     "output_type": "execute_result"
    },
    {
     "data": {
      "image/png": "[encoded data removed]",
      "text/plain": [
       "<Figure size 432x288 with 1 Axes>"
      ]
     },
     "metadata": {
      "needs_background": "light"
     },
     "output_type": "display_data"
    }
   ],
   "source": [
    "plt.hist(x)"
   ]
  },
  {
   "cell_type": "code",
   "execution_count": 9,
   "id": "b9ec9a86",
   "metadata": {},
   "outputs": [
    {
     "data": {
      "text/plain": [
       "(array([  8.,  41.,  86., 219., 239., 226., 117.,  50.,  12.,   2.]),\n",
       " array([-1.31814947e+01, -9.88575204e+00, -6.59000939e+00, -3.29426675e+00,\n",
       "         1.47590016e-03,  3.29721855e+00,  6.59296120e+00,  9.88870384e+00,\n",
       "         1.31844465e+01,  1.64801891e+01,  1.97759318e+01]),\n",
       " <BarContainer object of 10 artists>)"
      ]
     },
     "execution_count": 9,
     "metadata": {},
     "output_type": "execute_result"
    },
    {
     "data": {
      "image/png": "[encoded data removed]",
      "text/plain": [
       "<Figure size 432x288 with 1 Axes>"
      ]
     },
     "metadata": {
      "needs_background": "light"
     },
     "output_type": "display_data"
    }
   ],
   "source": [
    "plt.hist(y)"
   ]
  },
  {
   "cell_type": "code",
   "execution_count": 10,
   "id": "374dd92b",
   "metadata": {},
   "outputs": [
    {
     "name": "stdout",
     "output_type": "stream",
     "text": [
      "Mean and error of u from error propagation =  2.23606797749979  +-  4.669047011971501\n"
     ]
    }
   ],
   "source": [
    "# Use error propagation formula\n",
    "u_mean = (1**2+2**2)**0.5\n",
    "u_err = ((3**2+10**2)/(1**2+2**2))**0.5\n",
    "\n",
    "print('Mean and error of u from error propagation = ',u_mean,' +- ',u_err)"
   ]
  },
  {
   "cell_type": "markdown",
   "id": "f0c0a762",
   "metadata": {},
   "source": [
    "## Note\n",
    "The result doesn't make sense because $u$ is positively defined, but the error covers negative range.\n",
    "The reason is that the error propagation formula doesn't work in this case.\n",
    "That's because the Taylor expansion is not valid when $x$ and $y$ are around 0, which is included in this case (see histograms above).\n",
    "For such case, you assign uncertainty based on the simulated distribution as below."
   ]
  },
  {
   "cell_type": "code",
   "execution_count": 12,
   "id": "805778c4",
   "metadata": {},
   "outputs": [
    {
     "name": "stdout",
     "output_type": "stream",
     "text": [
      "Mean and error of u from simulation (this value should be used) =  5.4805297630123055  +-  3.102860394738105\n"
     ]
    },
    {
     "data": {
      "text/plain": [
       "(array([113., 260., 240., 201.,  90.,  55.,  31.,   7.,   1.,   2.]),\n",
       " array([ 0.09837221,  2.06971148,  4.04105076,  6.01239003,  7.9837293 ,\n",
       "         9.95506858, 11.92640785, 13.89774712, 15.8690864 , 17.84042567,\n",
       "        19.81176494]),\n",
       " <BarContainer object of 10 artists>)"
      ]
     },
     "execution_count": 12,
     "metadata": {},
     "output_type": "execute_result"
    },
    {
     "data": {
      "image/png": "[encoded data removed]",
      "text/plain": [
       "<Figure size 432x288 with 1 Axes>"
      ]
     },
     "metadata": {
      "needs_background": "light"
     },
     "output_type": "display_data"
    }
   ],
   "source": [
    "# Calculate values with simulation data\n",
    "u = (x**2+y**2)**0.5\n",
    "\n",
    "u_mean = np.mean(u)\n",
    "u_err = np.std(u)\n",
    "print('Mean and error of u from simulation (this value should be used) = ',u_mean,' +- ',u_err)\n",
    "\n",
    "# Simulated distribution of u\n",
    "plt.hist(u)"
   ]
  }
 ],
 "metadata": {
  "kernelspec": {
   "display_name": "Python 3 (ipykernel)",
   "language": "python",
   "name": "python3"
  },
  "language_info": {
   "codemirror_mode": {
    "name": "ipython",
    "version": 3
   },
   "file_extension": ".py",
   "mimetype": "text/x-python",
   "name": "python",
   "nbconvert_exporter": "python",
   "pygments_lexer": "ipython3",
   "version": "3.8.12"
  }
 },
 "nbformat": 4,
 "nbformat_minor": 5
}
